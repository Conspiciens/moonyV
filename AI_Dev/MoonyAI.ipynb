{
 "cells": [
  {
   "cell_type": "code",
   "execution_count": 28,
   "id": "2578f3ba",
   "metadata": {},
   "outputs": [
    {
     "name": "stdout",
     "output_type": "stream",
     "text": [
      "Generate Weights\n",
      "[[-0.16595599]\n",
      " [ 0.44064899]\n",
      " [-0.99977125]]\n",
      "Ending weights after training\n",
      "[[10.08740896]\n",
      " [-0.20695366]\n",
      " [-4.83757835]]\n",
      "Input One: 12\n",
      "Input Two: 42\n",
      "Input Three: 12\n",
      "New Situation: 124212\n",
      "Output Data: \n",
      "[1.]\n"
     ]
    }
   ],
   "source": [
    "import numpy as np \n",
    "\n",
    "class MoonyNetwork(): \n",
    "    \n",
    "    def __init__(self):\n",
    "        np.random.seed(1) \n",
    "        \n",
    "        self.synaptic_weights = 2 * np.random.random((3,1)) - 1\n",
    "        \n",
    "    def sigmoid(self, x): \n",
    "        return 1 / (1 + np.exp(-x))\n",
    "    \n",
    "    def sigmoid_derivative(self, x): \n",
    "        return x * (1 - x)\n",
    "    \n",
    "    def train(self, training_inputs, training_outputs, training_interations):\n",
    "        \n",
    "        for iteration in range(training_interations):\n",
    "            \n",
    "            output = self.think(training_inputs)\n",
    "            \n",
    "            error = training_outputs - output\n",
    "            \n",
    "            adjustments = np.dot(training_inputs.T, error * self.sigmoid_derivative(output))\n",
    "            \n",
    "            self.synaptic_weights += adjustments\n",
    "        \n",
    "    def think(self, inputs):\n",
    "        \n",
    "        inputs = inputs.astype(float)\n",
    "        output = self.sigmoid(np.dot(inputs, self.synaptic_weights))\n",
    "        return output\n",
    "    \n",
    "\n",
    "if __name__ == '__main__': \n",
    "    \n",
    "    moony = MoonyNetwork()\n",
    "    \n",
    "    print(\"Generate Weights\")\n",
    "    print(moony.synaptic_weights)\n",
    "    \n",
    "    training_inputs = np.array([[0,0,1],\n",
    "                                [1,1,1],\n",
    "                                [1,0,1],\n",
    "                                [0,1,1]])\n",
    "    \n",
    "    training_output = np.array([[0,1,1,0]]).T \n",
    "    \n",
    "    moony.train(training_inputs, training_output, 15000)\n",
    "    \n",
    "    print(\"Ending weights after training\")\n",
    "    print(moony.synaptic_weights)\n",
    "    \n",
    "    inputOne = str(input(\"Input One: \"))\n",
    "    inputTwo = str(input(\"Input Two: \"))\n",
    "    inputThree = str(input(\"Input Three: \"))\n",
    "    \n",
    "    print(\"New Situation: \" + inputOne + inputTwo + inputThree)\n",
    "    print(\"Output Data: \")\n",
    "    print(moony.think(np.array([inputOne, inputTwo, inputThree])))\n",
    "    \n",
    "    \n",
    "    \n",
    "    "
   ]
  },
  {
   "cell_type": "code",
   "execution_count": null,
   "id": "368239f8",
   "metadata": {},
   "outputs": [],
   "source": []
  },
  {
   "cell_type": "code",
   "execution_count": null,
   "id": "52e87e71",
   "metadata": {},
   "outputs": [],
   "source": []
  }
 ],
 "metadata": {
  "kernelspec": {
   "display_name": "Python 3 (ipykernel)",
   "language": "python",
   "name": "python3"
  },
  "language_info": {
   "codemirror_mode": {
    "name": "ipython",
    "version": 3
   },
   "file_extension": ".py",
   "mimetype": "text/x-python",
   "name": "python",
   "nbconvert_exporter": "python",
   "pygments_lexer": "ipython3",
   "version": "3.8.13"
  }
 },
 "nbformat": 4,
 "nbformat_minor": 5
}
