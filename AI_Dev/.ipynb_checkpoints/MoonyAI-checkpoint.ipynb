{
 "cells": [
  {
   "cell_type": "code",
   "execution_count": 27,
   "id": "b4839ce5",
   "metadata": {},
   "outputs": [
    {
     "name": "stdout",
     "output_type": "stream",
     "text": [
      "Generate Weights\n",
      "[[-0.16595599]\n",
      " [ 0.44064899]\n",
      " [-0.99977125]]\n",
      "Ending weights after training\n",
      "[[ 1.72057624]\n",
      " [ 0.23669265]\n",
      " [-0.84074522]]\n",
      "Input One: 1\n",
      "Input Two: 5\n",
      "Input Three: 23\n",
      "New Situation: 1523\n",
      "Output Data: \n",
      "[7.29785236e-08]\n"
     ]
    }
   ],
   "source": [
    "import numpy as np \n",
    "\n",
    "class MoonyNetwork(): \n",
    "    \n",
    "    def __init__(self):\n",
    "        np.random.seed(1) \n",
    "        \n",
    "        self.synaptic_weights = 2 * np.random.random((3,1)) - 1\n",
    "        \n",
    "    def sigmoid(self, x): \n",
    "        return 1 / (1 + np.exp(-x))\n",
    "    \n",
    "    def sigmoid_derivative(self, x): \n",
    "        return x * (1 - x)\n",
    "    \n",
    "    def train(self, training_inputs, training_outputs, training_interations):\n",
    "        \n",
    "        for iteration in range(training_interations):\n",
    "            \n",
    "            output = self.think(training_inputs)\n",
    "            \n",
    "            error = training_outputs - output\n",
    "            \n",
    "            adjustments = np.dot(training_inputs.T, error * self.sigmoid_derivative(output))\n",
    "            \n",
    "            self.synaptic_weights += adjustments\n",
    "        \n",
    "    def think(self, inputs):\n",
    "        \n",
    "        inputs = inputs.astype(float)\n",
    "        output = self.sigmoid(np.dot(inputs, self.synaptic_weights))\n",
    "        return output\n",
    "    \n",
    "\n",
    "if __name__ == '__main__': \n",
    "    \n",
    "    moony = MoonyNetwork()\n",
    "    \n",
    "    print(\"Generate Weights\")\n",
    "    print(moony.synaptic_weights)\n",
    "    \n",
    "    training_inputs = np.array([[0,0,1],\n",
    "                                [1,1,1],\n",
    "                                [1,0,1],\n",
    "                                [0,1,1]])\n",
    "    \n",
    "    training_output = np.array([[0,1,1,0]]).T \n",
    "    \n",
    "    moony.train(training_inputs, training_output, 15000)\n",
    "    \n",
    "    print(\"Ending weights after training\")\n",
    "    print(moony.synaptic_weights)\n",
    "    \n",
    "    inputOne = str(input(\"Input One: \"))\n",
    "    inputTwo = str(input(\"Input Two: \"))\n",
    "    inputThree = str(input(\"Input Three: \"))\n",
    "    \n",
    "    print(\"New Situation: \" + inputOne + inputTwo + inputThree)\n",
    "    print(\"Output Data: \")\n",
    "    print(moony.think(np.array([inputOne, inputTwo, inputThree])))\n",
    "    \n",
    "    \n",
    "    \n",
    "    "
   ]
  },
  {
   "cell_type": "code",
   "execution_count": null,
   "id": "3528c0b8",
   "metadata": {},
   "outputs": [],
   "source": []
  },
  {
   "cell_type": "code",
   "execution_count": null,
   "id": "1f1f700f",
   "metadata": {},
   "outputs": [],
   "source": []
  }
 ],
 "metadata": {
  "kernelspec": {
   "display_name": "Python 3 (ipykernel)",
   "language": "python",
   "name": "python3"
  },
  "language_info": {
   "codemirror_mode": {
    "name": "ipython",
    "version": 3
   },
   "file_extension": ".py",
   "mimetype": "text/x-python",
   "name": "python",
   "nbconvert_exporter": "python",
   "pygments_lexer": "ipython3",
   "version": "3.8.13"
  }
 },
 "nbformat": 4,
 "nbformat_minor": 5
}
